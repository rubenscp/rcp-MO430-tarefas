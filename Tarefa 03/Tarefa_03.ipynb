{
 "cells": [
  {
   "cell_type": "markdown",
   "metadata": {},
   "source": [
    "## Disciplina: MO911\n",
    "### Tarefa 3 - Testes Estatísticos \n",
    "\n",
    "- Professor: Sandro Rigo \n",
    "- Aluno: Rubens de Castro Pereira - RA217146\n",
    "- Data: 06/12/202"
   ]
  },
  {
   "cell_type": "markdown",
   "metadata": {},
   "source": [
    "### Import libraries"
   ]
  },
  {
   "cell_type": "code",
   "execution_count": 11,
   "metadata": {},
   "outputs": [],
   "source": [
    "import matplotlib.pyplot as plt\n",
    "import pandas as pd\n",
    "import numpy as np\n",
    "import scipy.stats as stats"
   ]
  },
  {
   "cell_type": "markdown",
   "metadata": {},
   "source": [
    "### Loading datasets\n",
    "\n",
    "O arquivo bp.csv contém dados sobre a pressão sanguínea (bp) e se a pessoa é ou não diabética (type)."
   ]
  },
  {
   "cell_type": "code",
   "execution_count": 10,
   "metadata": {},
   "outputs": [
    {
     "name": "stdout",
     "output_type": "stream",
     "text": [
      "<bound method DataFrame.info of      bp type\n",
      "0    68   No\n",
      "1    70  Yes\n",
      "2    82   No\n",
      "3    76   No\n",
      "4    60   No\n",
      "..   ..  ...\n",
      "195  58   No\n",
      "196  68  Yes\n",
      "197  70   No\n",
      "198  58   No\n",
      "199  62  Yes\n",
      "\n",
      "[200 rows x 2 columns]>\n",
      "<bound method DataFrame.info of              Clone  August  November\n",
      "0     Balsam_Spire     8.1      11.2\n",
      "1          Beaupre    10.0      16.3\n",
      "2        Hazendans    16.5      15.3\n",
      "3        Hoogvorst    13.6      15.6\n",
      "4         Raspalje     9.5      10.5\n",
      "5             Unal     8.3      15.5\n",
      "6   Columbia_River    18.3      12.7\n",
      "7    Fritzi_Pauley    13.3      11.1\n",
      "8        Trichobel     7.9      19.9\n",
      "9            Gaver     8.1      20.4\n",
      "10          Gibecq     8.9      14.2\n",
      "11           Primo    12.6      12.7\n",
      "12       Wolterson    13.4      36.8>\n"
     ]
    }
   ],
   "source": [
    "df_bp = pd.read_csv('./datasets/bp - bp.csv')\n",
    "df_paired = pd.read_csv('./datasets/paired - paired.csv')\n",
    "print(df_bp.info)\n",
    "print(df_paired.info)"
   ]
  },
  {
   "cell_type": "markdown",
   "metadata": {},
   "source": [
    "### Questão 01\n",
    "\n",
    "O arquivo bp.csv contem dados sobre a pressão sanguínea (bp) e se a pessoa é ou não diabética (type) (diabetico é type = Yes).\n",
    "\n",
    "Use os seguintes testes e responda os itens abaixo:\n",
    "\n",
    "- Teste t\n",
    "\n",
    "- Wilcoxon rank sum\n",
    "\n",
    "1. Reporte o p-valor da comparação entre a pressão sangüínea de pessoas diabéticas ou não.\n",
    "\n",
    "2. Qual tem a maior pressão média? E maior pressão mediana?\n",
    "\n",
    "3. A diferença é significativa?\n",
    "\n",
    "Discuta a diferença dos p-valores. Quais dos 2 testes você acha mais apropriado nesse caso?"
   ]
  },
  {
   "cell_type": "markdown",
   "metadata": {},
   "source": [
    "#### Teste t"
   ]
  },
  {
   "cell_type": "code",
   "execution_count": 30,
   "metadata": {},
   "outputs": [
    {
     "name": "stdout",
     "output_type": "stream",
     "text": [
      "1       70\n",
      "5       76\n",
      "9       78\n",
      "10      40\n",
      "12      60\n",
      "      ... \n",
      "187     62\n",
      "189    102\n",
      "192     48\n",
      "196     68\n",
      "199     62\n",
      "Name: bp, Length: 68, dtype: int64\n",
      "0      68\n",
      "2      82\n",
      "3      76\n",
      "4      60\n",
      "6      58\n",
      "       ..\n",
      "193    68\n",
      "194    74\n",
      "195    58\n",
      "197    70\n",
      "198    58\n",
      "Name: bp, Length: 132, dtype: int64\n"
     ]
    },
    {
     "data": {
      "text/plain": [
       "Ttest_indResult(statistic=3.001495202122035, pvalue=0.0030323591864622732)"
      ]
     },
     "execution_count": 30,
     "metadata": {},
     "output_type": "execute_result"
    }
   ],
   "source": [
    "# preparing data \n",
    "diabetic_persons = df_bp.loc[df_bp['type'] == 'Yes']['bp']\n",
    "print(diabetic_persons)\n",
    "\n",
    "non_diabetic_persons = df_bp.loc[df_bp['type'] == 'No']['bp']\n",
    "print(non_diabetic_persons)\n",
    "\n",
    "# calculating test t\n",
    "stats.ttest_ind(diabetic_persons, non_diabetic_persons)"
   ]
  },
  {
   "cell_type": "markdown",
   "metadata": {},
   "source": [
    "#### Test Wilcoxon rank sum"
   ]
  },
  {
   "cell_type": "code",
   "execution_count": 28,
   "metadata": {},
   "outputs": [
    {
     "name": "stdout",
     "output_type": "stream",
     "text": [
      "stat=3.046, p=0.002\n",
      "Probably different distributions\n"
     ]
    }
   ],
   "source": [
    "stat, p = stats.ranksums(diabetic_persons, non_diabetic_persons)\n",
    "print('stat=%.3f, p=%.3f' % (stat, p))\n",
    "if p > 0.05:\n",
    "\tprint('Probably the same distribution')\n",
    "else:\n",
    "\tprint('Probably different distributions')"
   ]
  },
  {
   "cell_type": "markdown",
   "metadata": {},
   "source": [
    "#### Média e Mediana "
   ]
  },
  {
   "cell_type": "code",
   "execution_count": 31,
   "metadata": {},
   "outputs": [
    {
     "name": "stdout",
     "output_type": "stream",
     "text": [
      "Média: 74.58823529411765\n",
      "Mediana: 76.0\n"
     ]
    }
   ],
   "source": [
    "diabetic_persons_mean = diabetic_persons.mean()\n",
    "print(f\"Diabéticos - Pressão Média: {diabetic_persons_mean}\")\n",
    "\n",
    "diabetic_persons_median = diabetic_persons.median()\n",
    "print(f\"Diabéticos - Pressão Mediana: {diabetic_persons_median}\")\n",
    "\n",
    "non_diabetic_persons_mean = non_diabetic_persons.mean()\n",
    "print(f\"Não Diabéticos - Pressão Média: {non_diabetic_persons_mean}\")\n",
    "\n",
    "non_diabetic_persons_median = non_diabetic_persons.median()\n",
    "print(f\"Não Diabéticos - Pressão Mediana: {non_diabetic_persons_median}\")"
   ]
  },
  {
   "cell_type": "markdown",
   "metadata": {},
   "source": [
    "### Questão 01 - Comentários sobre os resultados\n",
    "\n",
    "xxxx"
   ]
  }
 ],
 "metadata": {
  "kernelspec": {
   "display_name": "Python 3.9.5 ('Python39')",
   "language": "python",
   "name": "python3"
  },
  "language_info": {
   "codemirror_mode": {
    "name": "ipython",
    "version": 3
   },
   "file_extension": ".py",
   "mimetype": "text/x-python",
   "name": "python",
   "nbconvert_exporter": "python",
   "pygments_lexer": "ipython3",
   "version": "3.9.5"
  },
  "orig_nbformat": 4,
  "vscode": {
   "interpreter": {
    "hash": "93950a40ea759c85c981d82e2bd30582dd3070e4c551fb5ab99e546ff18355cd"
   }
  }
 },
 "nbformat": 4,
 "nbformat_minor": 2
}
