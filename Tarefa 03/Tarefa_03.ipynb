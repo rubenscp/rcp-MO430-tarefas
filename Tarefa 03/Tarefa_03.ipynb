{
 "cells": [
  {
   "cell_type": "markdown",
   "metadata": {},
   "source": [
    "## Disciplina: MO911\n",
    "## Tarefa 3 - Testes Estatísticos \n",
    "\n",
    "- Aluno: Rubens de Castro Pereira - RA217146\n",
    "- Professor: Sandro Rigo \n",
    "- Data: 06/12/202"
   ]
  },
  {
   "cell_type": "markdown",
   "metadata": {},
   "source": [
    "### Import libraries"
   ]
  },
  {
   "cell_type": "code",
   "execution_count": 50,
   "metadata": {},
   "outputs": [],
   "source": [
    "import matplotlib.pyplot as plt\n",
    "import pandas as pd\n",
    "import numpy as np\n",
    "import scipy.stats as stats"
   ]
  },
  {
   "cell_type": "markdown",
   "metadata": {},
   "source": [
    "### Loading datasets\n",
    "\n",
    "O arquivo bp.csv contém dados sobre a pressão sanguínea (bp) e se a pessoa é ou não diabética (type)."
   ]
  },
  {
   "cell_type": "code",
   "execution_count": 51,
   "metadata": {},
   "outputs": [
    {
     "data": {
      "text/html": [
       "<div>\n",
       "<style scoped>\n",
       "    .dataframe tbody tr th:only-of-type {\n",
       "        vertical-align: middle;\n",
       "    }\n",
       "\n",
       "    .dataframe tbody tr th {\n",
       "        vertical-align: top;\n",
       "    }\n",
       "\n",
       "    .dataframe thead th {\n",
       "        text-align: right;\n",
       "    }\n",
       "</style>\n",
       "<table border=\"1\" class=\"dataframe\">\n",
       "  <thead>\n",
       "    <tr style=\"text-align: right;\">\n",
       "      <th></th>\n",
       "      <th>bp</th>\n",
       "      <th>type</th>\n",
       "    </tr>\n",
       "  </thead>\n",
       "  <tbody>\n",
       "    <tr>\n",
       "      <th>0</th>\n",
       "      <td>68</td>\n",
       "      <td>No</td>\n",
       "    </tr>\n",
       "    <tr>\n",
       "      <th>1</th>\n",
       "      <td>70</td>\n",
       "      <td>Yes</td>\n",
       "    </tr>\n",
       "    <tr>\n",
       "      <th>2</th>\n",
       "      <td>82</td>\n",
       "      <td>No</td>\n",
       "    </tr>\n",
       "    <tr>\n",
       "      <th>3</th>\n",
       "      <td>76</td>\n",
       "      <td>No</td>\n",
       "    </tr>\n",
       "    <tr>\n",
       "      <th>4</th>\n",
       "      <td>60</td>\n",
       "      <td>No</td>\n",
       "    </tr>\n",
       "    <tr>\n",
       "      <th>...</th>\n",
       "      <td>...</td>\n",
       "      <td>...</td>\n",
       "    </tr>\n",
       "    <tr>\n",
       "      <th>195</th>\n",
       "      <td>58</td>\n",
       "      <td>No</td>\n",
       "    </tr>\n",
       "    <tr>\n",
       "      <th>196</th>\n",
       "      <td>68</td>\n",
       "      <td>Yes</td>\n",
       "    </tr>\n",
       "    <tr>\n",
       "      <th>197</th>\n",
       "      <td>70</td>\n",
       "      <td>No</td>\n",
       "    </tr>\n",
       "    <tr>\n",
       "      <th>198</th>\n",
       "      <td>58</td>\n",
       "      <td>No</td>\n",
       "    </tr>\n",
       "    <tr>\n",
       "      <th>199</th>\n",
       "      <td>62</td>\n",
       "      <td>Yes</td>\n",
       "    </tr>\n",
       "  </tbody>\n",
       "</table>\n",
       "<p>200 rows × 2 columns</p>\n",
       "</div>"
      ],
      "text/plain": [
       "     bp type\n",
       "0    68   No\n",
       "1    70  Yes\n",
       "2    82   No\n",
       "3    76   No\n",
       "4    60   No\n",
       "..   ..  ...\n",
       "195  58   No\n",
       "196  68  Yes\n",
       "197  70   No\n",
       "198  58   No\n",
       "199  62  Yes\n",
       "\n",
       "[200 rows x 2 columns]"
      ]
     },
     "execution_count": 51,
     "metadata": {},
     "output_type": "execute_result"
    }
   ],
   "source": [
    "df_bp = pd.read_csv('./datasets/bp - bp.csv')\n",
    "# print(df_bp.describe)\n",
    "df_bp"
   ]
  },
  {
   "cell_type": "markdown",
   "metadata": {},
   "source": [
    "***"
   ]
  },
  {
   "cell_type": "markdown",
   "metadata": {},
   "source": [
    "### Questão 01\n",
    "\n",
    "O arquivo bp.csv contem dados sobre a pressão sanguínea (bp) e se a pessoa é ou não diabética (type) (diabetico é type = Yes).\n",
    "\n",
    "Use os seguintes testes e responda os itens abaixo:\n",
    "\n",
    "- Teste t\n",
    "\n",
    "- Wilcoxon rank sum\n",
    "\n",
    "1. Reporte o p-valor da comparação entre a pressão sangüínea de pessoas diabéticas ou não.\n",
    "\n",
    "2. Qual tem a maior pressão média? E maior pressão mediana?\n",
    "\n",
    "3. A diferença é significativa?\n",
    "\n",
    "Discuta a diferença dos p-valores. Quais dos 2 testes você acha mais apropriado nesse caso?"
   ]
  },
  {
   "cell_type": "markdown",
   "metadata": {},
   "source": [
    "#### Preparing data"
   ]
  },
  {
   "cell_type": "code",
   "execution_count": 52,
   "metadata": {},
   "outputs": [
    {
     "data": {
      "text/plain": [
       "0      68\n",
       "2      82\n",
       "3      76\n",
       "4      60\n",
       "6      58\n",
       "       ..\n",
       "193    68\n",
       "194    74\n",
       "195    58\n",
       "197    70\n",
       "198    58\n",
       "Name: bp, Length: 132, dtype: int64"
      ]
     },
     "execution_count": 52,
     "metadata": {},
     "output_type": "execute_result"
    }
   ],
   "source": [
    "# preparing data \n",
    "diabetic_persons = df_bp.loc[df_bp['type'] == 'Yes']['bp']\n",
    "# print(diabetic_persons)\n",
    "diabetic_persons\n",
    "\n",
    "non_diabetic_persons = df_bp.loc[df_bp['type'] == 'No']['bp']\n",
    "# print(non_diabetic_persons)\n",
    "non_diabetic_persons"
   ]
  },
  {
   "cell_type": "markdown",
   "metadata": {},
   "source": [
    "#### Teste t"
   ]
  },
  {
   "cell_type": "code",
   "execution_count": 53,
   "metadata": {},
   "outputs": [
    {
     "name": "stdout",
     "output_type": "stream",
     "text": [
      "Test t\n",
      "stat=3.00150, p_value=0.00303\n"
     ]
    }
   ],
   "source": [
    "# calculating test t\n",
    "print(\"Test t\")\n",
    "test_t_stat, test_t_p_value = stats.ttest_ind(diabetic_persons, non_diabetic_persons)\n",
    "print('stat=%.5f, p_value=%.5f' % (test_t_stat, test_t_p_value))"
   ]
  },
  {
   "cell_type": "markdown",
   "metadata": {},
   "source": [
    "#### Test Wilcoxon rank sum"
   ]
  },
  {
   "cell_type": "code",
   "execution_count": 54,
   "metadata": {},
   "outputs": [
    {
     "name": "stdout",
     "output_type": "stream",
     "text": [
      "Test - Wilcoxon rank sum\n",
      "stat=3.04580, p_value=0.00232\n"
     ]
    }
   ],
   "source": [
    "print(\"Test - Wilcoxon rank sum\")\n",
    "test_wilcoxon_stat, test_wilcoxon_p_value = stats.ranksums(diabetic_persons, non_diabetic_persons)\n",
    "print('stat=%.5f, p_value=%.5f' % (test_wilcoxon_stat, test_wilcoxon_p_value))"
   ]
  },
  {
   "cell_type": "markdown",
   "metadata": {},
   "source": [
    "#### Média e Mediana "
   ]
  },
  {
   "cell_type": "code",
   "execution_count": 55,
   "metadata": {},
   "outputs": [
    {
     "name": "stdout",
     "output_type": "stream",
     "text": [
      "Diabéticos - Pressão Média ......: 74.58823529411765\n",
      "Diabéticos - Pressão Mediana ....: 76.0\n",
      "Não Diabéticos - Pressão Média ..: 69.54545454545455\n",
      "Não Diabéticos - Pressão Mediana : 70.0\n"
     ]
    }
   ],
   "source": [
    "diabetic_persons_mean = diabetic_persons.mean()\n",
    "print(f\"Diabéticos - Pressão Média ......: {diabetic_persons_mean}\")\n",
    "\n",
    "diabetic_persons_median = diabetic_persons.median()\n",
    "print(f\"Diabéticos - Pressão Mediana ....: {diabetic_persons_median}\")\n",
    "\n",
    "non_diabetic_persons_mean = non_diabetic_persons.mean()\n",
    "print(f\"Não Diabéticos - Pressão Média ..: {non_diabetic_persons_mean}\")\n",
    "\n",
    "non_diabetic_persons_median = non_diabetic_persons.median()\n",
    "print(f\"Não Diabéticos - Pressão Mediana : {non_diabetic_persons_median}\")"
   ]
  },
  {
   "attachments": {},
   "cell_type": "markdown",
   "metadata": {},
   "source": [
    "### Questão 01 - Resultados\n",
    "\n",
    "Use os seguintes testes e responda os itens abaixo:\n",
    "- Teste t\n",
    "- Wilcoxon rank sum\n",
    "1. Reporte o p-valor da comparação entre a pressão sangüínea de pessoas diabéticas ou não.\n",
    "2. Qual tem a maior pressão média? E maior pressão mediana?\n",
    "3. A diferença é significativa?\n",
    "Discuta a diferença dos p-valores. Quais dos 2 testes você acha mais apropriado nesse caso?"
   ]
  },
  {
   "cell_type": "code",
   "execution_count": 67,
   "metadata": {},
   "outputs": [
    {
     "name": "stdout",
     "output_type": "stream",
     "text": [
      "Questão 01 - Resultados\n",
      "\n",
      "1. Reporte o p-valor da comparação entre a pressão sangüínea de pessoas diabéticas ou não.\n",
      "   O test Student T-test produziu um p-valor de 0.00303\n",
      "   O test Wilcoxon rank sum produziu um p-valor de 0.00232\n",
      "\n",
      "2. Qual tem a maior pressão média? E maior pressão mediana?\n",
      "   O grupo de pessoas diabéticas possui os maiores valores em relação às pessoas não diabéticas:\n",
      "     > Pressão média ...: 74.58824\n",
      "     > Pressão mediana .: 76.00000\n",
      "\n",
      "3. A diferença é significativa?\n",
      "   Discuta a diferença dos p-valores. Quais dos 2 testes você acha mais apropriado nesse caso?\n",
      "\n"
     ]
    }
   ],
   "source": [
    "print(f\"Questão 01 - Resultados\")\n",
    "print()\n",
    "print(f\"1. Reporte o p-valor da comparação entre a pressão sangüínea de pessoas diabéticas ou não.\")\n",
    "print(f\"   O test Student T-test produziu um p-valor de %.5f\" % (test_t_p_value))\n",
    "print(f\"   O test Wilcoxon rank sum produziu um p-valor de %.5f\" % (test_wilcoxon_p_value))\n",
    "print()\n",
    "print(f\"2. Qual tem a maior pressão média? E maior pressão mediana?\")\n",
    "print(f\"   O grupo de pessoas diabéticas possui os maiores valores em relação às pessoas não diabéticas:\")\n",
    "print(f\"     > Pressão média ...: %.5f\" % (diabetic_persons_mean))\n",
    "print(f\"     > Pressão mediana .: %.5f\" % (diabetic_persons_median))\n",
    "print()\n",
    "print(f\"3. A diferença é significativa?\")\n",
    "print(f\"   Discuta a diferença dos p-valores. Quais dos 2 testes você acha mais apropriado nesse caso?\")\n",
    "print()\n",
    "\n"
   ]
  },
  {
   "cell_type": "markdown",
   "metadata": {},
   "source": [
    "***"
   ]
  },
  {
   "cell_type": "markdown",
   "metadata": {},
   "source": [
    "### Questão 02\n",
    "\n",
    "O arquivo paired.csv contém dados sobre duas medições: em Agosto e em Novembro em 13 lugares diferentes.\n",
    "\n",
    "Use os seguintes testes e responda os itens abaixo:\n",
    "- Test t pareado\n",
    "\n",
    "- Wilcoxon signed rank.\n",
    "\n",
    "1. Qual o mês com maior média e maior mediana?\n",
    "\n",
    "2. A diferença é significativa?\n",
    "\n",
    "3. Discuta a diferença dos p-valores. Quais dos 2 testes você acha mais apropriado nesse caso?"
   ]
  },
  {
   "cell_type": "markdown",
   "metadata": {},
   "source": [
    "***"
   ]
  },
  {
   "cell_type": "markdown",
   "metadata": {},
   "source": [
    "#### Loading datasets\n",
    "\n",
    "O arquivo paired.csv contém dados sobre duas medições: em Agosto e em Novembro em 13 lugares diferentes."
   ]
  },
  {
   "cell_type": "code",
   "execution_count": 57,
   "metadata": {},
   "outputs": [
    {
     "name": "stdout",
     "output_type": "stream",
     "text": [
      "<bound method NDFrame.describe of              Clone  August  November\n",
      "0     Balsam_Spire     8.1      11.2\n",
      "1          Beaupre    10.0      16.3\n",
      "2        Hazendans    16.5      15.3\n",
      "3        Hoogvorst    13.6      15.6\n",
      "4         Raspalje     9.5      10.5\n",
      "5             Unal     8.3      15.5\n",
      "6   Columbia_River    18.3      12.7\n",
      "7    Fritzi_Pauley    13.3      11.1\n",
      "8        Trichobel     7.9      19.9\n",
      "9            Gaver     8.1      20.4\n",
      "10          Gibecq     8.9      14.2\n",
      "11           Primo    12.6      12.7\n",
      "12       Wolterson    13.4      36.8>\n"
     ]
    }
   ],
   "source": [
    "df_paired = pd.read_csv('./datasets/paired - paired.csv')\n",
    "print(df_paired.describe)"
   ]
  },
  {
   "cell_type": "markdown",
   "metadata": {},
   "source": [
    "#### Preparing data"
   ]
  },
  {
   "cell_type": "code",
   "execution_count": 58,
   "metadata": {},
   "outputs": [
    {
     "name": "stdout",
     "output_type": "stream",
     "text": [
      "0      8.1\n",
      "1     10.0\n",
      "2     16.5\n",
      "3     13.6\n",
      "4      9.5\n",
      "5      8.3\n",
      "6     18.3\n",
      "7     13.3\n",
      "8      7.9\n",
      "9      8.1\n",
      "10     8.9\n",
      "11    12.6\n",
      "12    13.4\n",
      "Name: August, dtype: float64\n",
      "0     11.2\n",
      "1     16.3\n",
      "2     15.3\n",
      "3     15.6\n",
      "4     10.5\n",
      "5     15.5\n",
      "6     12.7\n",
      "7     11.1\n",
      "8     19.9\n",
      "9     20.4\n",
      "10    14.2\n",
      "11    12.7\n",
      "12    36.8\n",
      "Name: November, dtype: float64\n"
     ]
    }
   ],
   "source": [
    "# preparing data \n",
    "paired_august = df_paired['August']\n",
    "print(paired_august)\n",
    "\n",
    "paired_november = df_paired['November']\n",
    "print(paired_november)\n"
   ]
  },
  {
   "cell_type": "markdown",
   "metadata": {},
   "source": [
    "#### Teste t pareado"
   ]
  },
  {
   "cell_type": "code",
   "execution_count": 59,
   "metadata": {},
   "outputs": [
    {
     "data": {
      "text/plain": [
       "Ttest_indResult(statistic=-2.293400543711695, pvalue=0.03088448455801124)"
      ]
     },
     "execution_count": 59,
     "metadata": {},
     "output_type": "execute_result"
    }
   ],
   "source": [
    "# calculating test t\n",
    "stats.ttest_ind(paired_august, paired_november)"
   ]
  },
  {
   "cell_type": "markdown",
   "metadata": {},
   "source": [
    "#### Test Wilcoxon signed rank"
   ]
  },
  {
   "cell_type": "code",
   "execution_count": 60,
   "metadata": {},
   "outputs": [
    {
     "name": "stdout",
     "output_type": "stream",
     "text": [
      "stat=0.000, p=0.000\n",
      "Probably different distributions\n",
      "stat=0.000, p=0.000\n",
      "Probably different distributions\n"
     ]
    }
   ],
   "source": [
    "stat_august, p_august = stats.wilcoxon(paired_august)\n",
    "print('stat=%.3f, p=%.3f' % (stat_august, p_august))\n",
    "if p_august > 0.05:\n",
    "\tprint('Probably the same distribution')\n",
    "else:\n",
    "\tprint('Probably different distributions')\n",
    "\n",
    "stat_november, p_november = stats.wilcoxon(paired_november)\n",
    "print('stat=%.3f, p=%.3f' % (stat_november, p_november))\n",
    "if p_november > 0.05:\n",
    "\tprint('Probably the same distribution')\n",
    "else:\n",
    "\tprint('Probably different distributions')"
   ]
  },
  {
   "cell_type": "markdown",
   "metadata": {},
   "source": [
    "#### Média e Mediana"
   ]
  },
  {
   "cell_type": "code",
   "execution_count": 61,
   "metadata": {},
   "outputs": [
    {
     "name": "stdout",
     "output_type": "stream",
     "text": [
      "August - Média: 11.423076923076925\n",
      "August - Mediana: 10.0\n",
      "November - Média: 16.323076923076922\n",
      "November - Mediana: 15.3\n"
     ]
    }
   ],
   "source": [
    "paired_august_mean = paired_august.mean()\n",
    "print(f\"August - Média: {paired_august_mean}\")\n",
    "\n",
    "paired_august_median = paired_august.median()\n",
    "print(f\"August - Mediana: {paired_august_median}\")\n",
    "\n",
    "paired_november_mean = paired_november.mean()\n",
    "print(f\"November - Média: {paired_november_mean}\")\n",
    "\n",
    "paired_november_median = paired_november.median()\n",
    "print(f\"November - Mediana: {paired_november_median}\")\n",
    "\n"
   ]
  },
  {
   "cell_type": "markdown",
   "metadata": {},
   "source": [
    "### Questão 02 - Comentários sobre os resultados\n",
    "\n"
   ]
  },
  {
   "cell_type": "markdown",
   "metadata": {},
   "source": [
    "### Questão 03\n",
    "\n",
    "Use os dados (não pareados) do dataset bp.csv\n",
    "\n",
    "Gere o intervalo de confiança para a pressão sangüínea dos pacientes com diabetes e sem diabetes (intervalo de 95% de confiança) usando o método de bootstrap"
   ]
  },
  {
   "cell_type": "markdown",
   "metadata": {},
   "source": [
    "***"
   ]
  },
  {
   "cell_type": "markdown",
   "metadata": {},
   "source": [
    "### Questão 04\n",
    "\n",
    "Teste Visual:  Há intersecção entre os intervalos de confiança dos 2 conjuntos de dados acima (com diabetes e sem diabetes)? Isso está de acordo com o teste de diferença significativa entre eles feito na questão 1?"
   ]
  },
  {
   "cell_type": "markdown",
   "metadata": {},
   "source": [
    "***"
   ]
  },
  {
   "cell_type": "markdown",
   "metadata": {},
   "source": [
    "### Questão 05\n",
    "\n",
    "Calcule o Cohen D com o pooled standard deviation para a diferença entre a pressão sangüínea de pacientes com e sem diabetes."
   ]
  },
  {
   "cell_type": "markdown",
   "metadata": {},
   "source": [
    "***"
   ]
  },
  {
   "cell_type": "markdown",
   "metadata": {},
   "source": [
    "### Questão 06\n",
    "\n",
    "Com base nos testes, intervalos de confiança, etc realizados acima sobre o dataset bp.csv, qual a sua conclusão sobre pressão arterial em pacientes com ou sem diabetes?"
   ]
  }
 ],
 "metadata": {
  "kernelspec": {
   "display_name": "Python 3.9.5 ('Python39')",
   "language": "python",
   "name": "python3"
  },
  "language_info": {
   "codemirror_mode": {
    "name": "ipython",
    "version": 3
   },
   "file_extension": ".py",
   "mimetype": "text/x-python",
   "name": "python",
   "nbconvert_exporter": "python",
   "pygments_lexer": "ipython3",
   "version": "3.9.5"
  },
  "orig_nbformat": 4,
  "vscode": {
   "interpreter": {
    "hash": "93950a40ea759c85c981d82e2bd30582dd3070e4c551fb5ab99e546ff18355cd"
   }
  }
 },
 "nbformat": 4,
 "nbformat_minor": 2
}
