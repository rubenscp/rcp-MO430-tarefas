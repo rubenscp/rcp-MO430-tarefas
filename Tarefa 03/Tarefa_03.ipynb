{
 "cells": [
  {
   "cell_type": "markdown",
   "metadata": {},
   "source": [
    "## Disciplina: MO911\n",
    "## Tarefa 3 - Testes Estatísticos \n",
    "\n",
    "- Aluno: Rubens de Castro Pereira - RA217146\n",
    "- Professor: Sandro Rigo \n",
    "- Data: 06/12/202"
   ]
  },
  {
   "cell_type": "markdown",
   "metadata": {},
   "source": [
    "### Import libraries"
   ]
  },
  {
   "cell_type": "code",
   "execution_count": 281,
   "metadata": {},
   "outputs": [],
   "source": [
    "import matplotlib.pyplot as plt\n",
    "import pandas as pd\n",
    "import numpy as np\n",
    "import scipy.stats as stats\n",
    "from math import sqrt"
   ]
  },
  {
   "cell_type": "markdown",
   "metadata": {},
   "source": [
    "### Loading datasets\n",
    "\n",
    "O arquivo bp.csv contém dados sobre a pressão sanguínea (bp) e se a pessoa é ou não diabética (type)."
   ]
  },
  {
   "cell_type": "code",
   "execution_count": 282,
   "metadata": {},
   "outputs": [
    {
     "data": {
      "text/html": [
       "<div>\n",
       "<style scoped>\n",
       "    .dataframe tbody tr th:only-of-type {\n",
       "        vertical-align: middle;\n",
       "    }\n",
       "\n",
       "    .dataframe tbody tr th {\n",
       "        vertical-align: top;\n",
       "    }\n",
       "\n",
       "    .dataframe thead th {\n",
       "        text-align: right;\n",
       "    }\n",
       "</style>\n",
       "<table border=\"1\" class=\"dataframe\">\n",
       "  <thead>\n",
       "    <tr style=\"text-align: right;\">\n",
       "      <th></th>\n",
       "      <th>bp</th>\n",
       "      <th>type</th>\n",
       "    </tr>\n",
       "  </thead>\n",
       "  <tbody>\n",
       "    <tr>\n",
       "      <th>0</th>\n",
       "      <td>68</td>\n",
       "      <td>No</td>\n",
       "    </tr>\n",
       "    <tr>\n",
       "      <th>1</th>\n",
       "      <td>70</td>\n",
       "      <td>Yes</td>\n",
       "    </tr>\n",
       "    <tr>\n",
       "      <th>2</th>\n",
       "      <td>82</td>\n",
       "      <td>No</td>\n",
       "    </tr>\n",
       "    <tr>\n",
       "      <th>3</th>\n",
       "      <td>76</td>\n",
       "      <td>No</td>\n",
       "    </tr>\n",
       "    <tr>\n",
       "      <th>4</th>\n",
       "      <td>60</td>\n",
       "      <td>No</td>\n",
       "    </tr>\n",
       "    <tr>\n",
       "      <th>...</th>\n",
       "      <td>...</td>\n",
       "      <td>...</td>\n",
       "    </tr>\n",
       "    <tr>\n",
       "      <th>195</th>\n",
       "      <td>58</td>\n",
       "      <td>No</td>\n",
       "    </tr>\n",
       "    <tr>\n",
       "      <th>196</th>\n",
       "      <td>68</td>\n",
       "      <td>Yes</td>\n",
       "    </tr>\n",
       "    <tr>\n",
       "      <th>197</th>\n",
       "      <td>70</td>\n",
       "      <td>No</td>\n",
       "    </tr>\n",
       "    <tr>\n",
       "      <th>198</th>\n",
       "      <td>58</td>\n",
       "      <td>No</td>\n",
       "    </tr>\n",
       "    <tr>\n",
       "      <th>199</th>\n",
       "      <td>62</td>\n",
       "      <td>Yes</td>\n",
       "    </tr>\n",
       "  </tbody>\n",
       "</table>\n",
       "<p>200 rows × 2 columns</p>\n",
       "</div>"
      ],
      "text/plain": [
       "     bp type\n",
       "0    68   No\n",
       "1    70  Yes\n",
       "2    82   No\n",
       "3    76   No\n",
       "4    60   No\n",
       "..   ..  ...\n",
       "195  58   No\n",
       "196  68  Yes\n",
       "197  70   No\n",
       "198  58   No\n",
       "199  62  Yes\n",
       "\n",
       "[200 rows x 2 columns]"
      ]
     },
     "execution_count": 282,
     "metadata": {},
     "output_type": "execute_result"
    }
   ],
   "source": [
    "df_bp = pd.read_csv('./datasets/bp - bp.csv')\n",
    "# print(df_bp.describe)\n",
    "df_bp"
   ]
  },
  {
   "cell_type": "markdown",
   "metadata": {},
   "source": [
    "***"
   ]
  },
  {
   "cell_type": "markdown",
   "metadata": {},
   "source": [
    "### Questão 01\n",
    "\n",
    "O arquivo bp.csv contem dados sobre a pressão sanguínea (bp) e se a pessoa é ou não diabética (type) (diabetico é type = Yes).\n",
    "\n",
    "Use os seguintes testes e responda os itens abaixo:\n",
    "\n",
    "- Teste t\n",
    "\n",
    "- Wilcoxon rank sum\n",
    "\n",
    "1. Reporte o p-valor da comparação entre a pressão sangüínea de pessoas diabéticas ou não.\n",
    "\n",
    "2. Qual tem a maior pressão média? E maior pressão mediana?\n",
    "\n",
    "3. A diferença é significativa?\n",
    "\n",
    "Discuta a diferença dos p-valores. Quais dos 2 testes você acha mais apropriado nesse caso?"
   ]
  },
  {
   "cell_type": "markdown",
   "metadata": {},
   "source": [
    "#### Preparing data"
   ]
  },
  {
   "cell_type": "code",
   "execution_count": 283,
   "metadata": {},
   "outputs": [
    {
     "data": {
      "text/plain": [
       "0      68\n",
       "2      82\n",
       "3      76\n",
       "4      60\n",
       "6      58\n",
       "       ..\n",
       "193    68\n",
       "194    74\n",
       "195    58\n",
       "197    70\n",
       "198    58\n",
       "Name: bp, Length: 132, dtype: int64"
      ]
     },
     "execution_count": 283,
     "metadata": {},
     "output_type": "execute_result"
    }
   ],
   "source": [
    "# preparing data \n",
    "diabetic_persons = df_bp.loc[df_bp['type'] == 'Yes']['bp']\n",
    "# print(diabetic_persons)\n",
    "diabetic_persons\n",
    "\n",
    "non_diabetic_persons = df_bp.loc[df_bp['type'] == 'No']['bp']\n",
    "# print(non_diabetic_persons)\n",
    "non_diabetic_persons"
   ]
  },
  {
   "attachments": {},
   "cell_type": "markdown",
   "metadata": {},
   "source": [
    "#### Test t"
   ]
  },
  {
   "cell_type": "code",
   "execution_count": 284,
   "metadata": {},
   "outputs": [
    {
     "name": "stdout",
     "output_type": "stream",
     "text": [
      "Test t\n",
      "stat=3.00150, p_value=0.00303\n"
     ]
    }
   ],
   "source": [
    "# calculating test t\n",
    "print(\"Test t\")\n",
    "test_t_stat, test_t_p_value = stats.ttest_ind(diabetic_persons, non_diabetic_persons)\n",
    "print('stat=%.5f, p_value=%.5f' % (test_t_stat, test_t_p_value))"
   ]
  },
  {
   "cell_type": "markdown",
   "metadata": {},
   "source": [
    "#### Test Wilcoxon rank sum"
   ]
  },
  {
   "cell_type": "code",
   "execution_count": 285,
   "metadata": {},
   "outputs": [
    {
     "name": "stdout",
     "output_type": "stream",
     "text": [
      "Test - Wilcoxon rank sum\n",
      "stat=3.04580, p_value=0.00232\n"
     ]
    }
   ],
   "source": [
    "print(\"Test - Wilcoxon rank sum\")\n",
    "test_wilcoxon_stat, test_wilcoxon_p_value = stats.ranksums(diabetic_persons, non_diabetic_persons)\n",
    "print('stat=%.5f, p_value=%.5f' % (test_wilcoxon_stat, test_wilcoxon_p_value))"
   ]
  },
  {
   "cell_type": "markdown",
   "metadata": {},
   "source": [
    "#### Média e Mediana "
   ]
  },
  {
   "cell_type": "code",
   "execution_count": 286,
   "metadata": {},
   "outputs": [
    {
     "name": "stdout",
     "output_type": "stream",
     "text": [
      "Diabéticos - Pressão Média ......: 74.58823529411765\n",
      "Diabéticos - Pressão Mediana ....: 76.0\n",
      "Não Diabéticos - Pressão Média ..: 69.54545454545455\n",
      "Não Diabéticos - Pressão Mediana : 70.0\n"
     ]
    }
   ],
   "source": [
    "diabetic_persons_mean = diabetic_persons.mean()\n",
    "print(f\"Diabéticos - Pressão Média ......: {diabetic_persons_mean}\")\n",
    "\n",
    "diabetic_persons_median = diabetic_persons.median()\n",
    "print(f\"Diabéticos - Pressão Mediana ....: {diabetic_persons_median}\")\n",
    "\n",
    "non_diabetic_persons_mean = non_diabetic_persons.mean()\n",
    "print(f\"Não Diabéticos - Pressão Média ..: {non_diabetic_persons_mean}\")\n",
    "\n",
    "non_diabetic_persons_median = non_diabetic_persons.median()\n",
    "print(f\"Não Diabéticos - Pressão Mediana : {non_diabetic_persons_median}\")"
   ]
  },
  {
   "attachments": {},
   "cell_type": "markdown",
   "metadata": {},
   "source": [
    "### Questão 01 - Resultados\n",
    "\n",
    "1. Reporte o p-valor da comparação entre a pressão sangüínea de pessoas diabéticas ou não.\n",
    "- O test Student T-test produziu um p-valor de 0.00303\n",
    "- O test Wilcoxon rank sum produziu um p-valor de 0.00232\n",
    "\n",
    "2. Qual tem a maior pressão média? E maior pressão mediana?\n",
    "  \n",
    "- O grupo de pessoas diabéticas possui os maiores valores em relação às pessoas não diabéticas:\n",
    "    - Pressão média: 74.59\n",
    "    - Pressão mediana: 76.0\n",
    "\n",
    "3. A diferença é significativa?\n",
    "- Adotando-se o valor de decisão para *p < 0,05*, então pelos valores de *p_value* obtidos acima, a diferença é estatisticamente significante.\n",
    "\n",
    "4. Discuta a diferença dos p-valores. Quais dos 2 testes você acha mais apropriado nesse caso?\n",
    "\n",
    "- O teste de Wilcoxon rank sum parece ser mais apropriado, pois não se conhece os parâmetros da distribuição dos dados."
   ]
  },
  {
   "cell_type": "markdown",
   "metadata": {},
   "source": [
    "***"
   ]
  },
  {
   "attachments": {},
   "cell_type": "markdown",
   "metadata": {},
   "source": [
    "### Questão 02\n",
    "\n",
    "O arquivo paired.csv contém dados sobre duas medições: em Agosto e em Novembro em 13 lugares diferentes.\n",
    "\n",
    "Use os seguintes testes e responda os itens abaixo:\n",
    "- Test t pareado\n",
    "- Wilcoxon signed rank.\n",
    "\n",
    "1. Qual o mês com maior média e maior mediana?\n",
    "\n",
    "2. A diferença é significativa?\n",
    "\n",
    "3. Discuta a diferença dos p-valores. Quais dos 2 testes você acha mais apropriado nesse caso?"
   ]
  },
  {
   "cell_type": "markdown",
   "metadata": {},
   "source": [
    "***"
   ]
  },
  {
   "cell_type": "markdown",
   "metadata": {},
   "source": [
    "#### Loading datasets\n",
    "\n",
    "O arquivo paired.csv contém dados sobre duas medições: em Agosto e em Novembro em 13 lugares diferentes."
   ]
  },
  {
   "cell_type": "code",
   "execution_count": 287,
   "metadata": {},
   "outputs": [
    {
     "data": {
      "text/html": [
       "<div>\n",
       "<style scoped>\n",
       "    .dataframe tbody tr th:only-of-type {\n",
       "        vertical-align: middle;\n",
       "    }\n",
       "\n",
       "    .dataframe tbody tr th {\n",
       "        vertical-align: top;\n",
       "    }\n",
       "\n",
       "    .dataframe thead th {\n",
       "        text-align: right;\n",
       "    }\n",
       "</style>\n",
       "<table border=\"1\" class=\"dataframe\">\n",
       "  <thead>\n",
       "    <tr style=\"text-align: right;\">\n",
       "      <th></th>\n",
       "      <th>Clone</th>\n",
       "      <th>August</th>\n",
       "      <th>November</th>\n",
       "    </tr>\n",
       "  </thead>\n",
       "  <tbody>\n",
       "    <tr>\n",
       "      <th>0</th>\n",
       "      <td>Balsam_Spire</td>\n",
       "      <td>8.1</td>\n",
       "      <td>11.2</td>\n",
       "    </tr>\n",
       "    <tr>\n",
       "      <th>1</th>\n",
       "      <td>Beaupre</td>\n",
       "      <td>10.0</td>\n",
       "      <td>16.3</td>\n",
       "    </tr>\n",
       "    <tr>\n",
       "      <th>2</th>\n",
       "      <td>Hazendans</td>\n",
       "      <td>16.5</td>\n",
       "      <td>15.3</td>\n",
       "    </tr>\n",
       "    <tr>\n",
       "      <th>3</th>\n",
       "      <td>Hoogvorst</td>\n",
       "      <td>13.6</td>\n",
       "      <td>15.6</td>\n",
       "    </tr>\n",
       "    <tr>\n",
       "      <th>4</th>\n",
       "      <td>Raspalje</td>\n",
       "      <td>9.5</td>\n",
       "      <td>10.5</td>\n",
       "    </tr>\n",
       "    <tr>\n",
       "      <th>5</th>\n",
       "      <td>Unal</td>\n",
       "      <td>8.3</td>\n",
       "      <td>15.5</td>\n",
       "    </tr>\n",
       "    <tr>\n",
       "      <th>6</th>\n",
       "      <td>Columbia_River</td>\n",
       "      <td>18.3</td>\n",
       "      <td>12.7</td>\n",
       "    </tr>\n",
       "    <tr>\n",
       "      <th>7</th>\n",
       "      <td>Fritzi_Pauley</td>\n",
       "      <td>13.3</td>\n",
       "      <td>11.1</td>\n",
       "    </tr>\n",
       "    <tr>\n",
       "      <th>8</th>\n",
       "      <td>Trichobel</td>\n",
       "      <td>7.9</td>\n",
       "      <td>19.9</td>\n",
       "    </tr>\n",
       "    <tr>\n",
       "      <th>9</th>\n",
       "      <td>Gaver</td>\n",
       "      <td>8.1</td>\n",
       "      <td>20.4</td>\n",
       "    </tr>\n",
       "    <tr>\n",
       "      <th>10</th>\n",
       "      <td>Gibecq</td>\n",
       "      <td>8.9</td>\n",
       "      <td>14.2</td>\n",
       "    </tr>\n",
       "    <tr>\n",
       "      <th>11</th>\n",
       "      <td>Primo</td>\n",
       "      <td>12.6</td>\n",
       "      <td>12.7</td>\n",
       "    </tr>\n",
       "    <tr>\n",
       "      <th>12</th>\n",
       "      <td>Wolterson</td>\n",
       "      <td>13.4</td>\n",
       "      <td>36.8</td>\n",
       "    </tr>\n",
       "  </tbody>\n",
       "</table>\n",
       "</div>"
      ],
      "text/plain": [
       "             Clone  August  November\n",
       "0     Balsam_Spire     8.1      11.2\n",
       "1          Beaupre    10.0      16.3\n",
       "2        Hazendans    16.5      15.3\n",
       "3        Hoogvorst    13.6      15.6\n",
       "4         Raspalje     9.5      10.5\n",
       "5             Unal     8.3      15.5\n",
       "6   Columbia_River    18.3      12.7\n",
       "7    Fritzi_Pauley    13.3      11.1\n",
       "8        Trichobel     7.9      19.9\n",
       "9            Gaver     8.1      20.4\n",
       "10          Gibecq     8.9      14.2\n",
       "11           Primo    12.6      12.7\n",
       "12       Wolterson    13.4      36.8"
      ]
     },
     "execution_count": 287,
     "metadata": {},
     "output_type": "execute_result"
    }
   ],
   "source": [
    "df_paired = pd.read_csv('./datasets/paired - paired.csv')\n",
    "# print(df_paired.describe)\n",
    "df_paired"
   ]
  },
  {
   "cell_type": "markdown",
   "metadata": {},
   "source": [
    "#### Preparing data"
   ]
  },
  {
   "cell_type": "code",
   "execution_count": 288,
   "metadata": {},
   "outputs": [
    {
     "name": "stdout",
     "output_type": "stream",
     "text": [
      "\n"
     ]
    },
    {
     "data": {
      "text/plain": [
       "0     11.2\n",
       "1     16.3\n",
       "2     15.3\n",
       "3     15.6\n",
       "4     10.5\n",
       "5     15.5\n",
       "6     12.7\n",
       "7     11.1\n",
       "8     19.9\n",
       "9     20.4\n",
       "10    14.2\n",
       "11    12.7\n",
       "12    36.8\n",
       "Name: November, dtype: float64"
      ]
     },
     "execution_count": 288,
     "metadata": {},
     "output_type": "execute_result"
    }
   ],
   "source": [
    "# preparing data \n",
    "paired_august = df_paired['August']\n",
    "# print(paired_august)\n",
    "paired_august\n",
    "\n",
    "print()\n",
    "\n",
    "paired_november = df_paired['November']\n",
    "# print(paired_november)\n",
    "paired_november\n"
   ]
  },
  {
   "cell_type": "markdown",
   "metadata": {},
   "source": [
    "#### Teste t pareado"
   ]
  },
  {
   "cell_type": "code",
   "execution_count": 289,
   "metadata": {},
   "outputs": [
    {
     "name": "stdout",
     "output_type": "stream",
     "text": [
      "Test t pareado\n",
      "stat=-2.308896, p_value=0.039555\n"
     ]
    }
   ],
   "source": [
    "print(\"Test t pareado\")\n",
    "test_t_pareado_stat, test_t_pareado_p_value = stats.ttest_rel(paired_august, paired_november)\n",
    "print('stat=%.6f, p_value=%.6f' % (test_t_pareado_stat, test_t_pareado_p_value))"
   ]
  },
  {
   "cell_type": "markdown",
   "metadata": {},
   "source": [
    "#### Test Wilcoxon signed rank"
   ]
  },
  {
   "cell_type": "code",
   "execution_count": 290,
   "metadata": {},
   "outputs": [
    {
     "name": "stdout",
     "output_type": "stream",
     "text": [
      "Test Wilcoxon signed rank\n",
      "stat=16.000000, p_value=0.039795\n"
     ]
    }
   ],
   "source": [
    "print(\"Test Wilcoxon signed rank\")\n",
    "test_wilcoxon_signed_rank_stat, test_wilcoxon_signed_rank_p_value = stats.wilcoxon(paired_august, paired_november)\n",
    "print('stat=%.6f, p_value=%.6f' % (test_wilcoxon_signed_rank_stat, test_wilcoxon_signed_rank_p_value))"
   ]
  },
  {
   "attachments": {},
   "cell_type": "markdown",
   "metadata": {},
   "source": [
    "#### Diferença dos valores *p_value* dos testes"
   ]
  },
  {
   "cell_type": "code",
   "execution_count": 291,
   "metadata": {},
   "outputs": [
    {
     "name": "stdout",
     "output_type": "stream",
     "text": [
      "Diferença p_value = 0.0002396710\n",
      "Diferença p_value = 2.396710e-04\n"
     ]
    }
   ],
   "source": [
    "print('Diferença p_value = %.10f' % (test_wilcoxon_signed_rank_p_value - test_t_pareado_p_value))\n",
    "print(f'Diferença p_value = {(test_wilcoxon_signed_rank_p_value - test_t_pareado_p_value):e}')"
   ]
  },
  {
   "cell_type": "markdown",
   "metadata": {},
   "source": [
    "#### Média e Mediana"
   ]
  },
  {
   "cell_type": "code",
   "execution_count": 292,
   "metadata": {},
   "outputs": [
    {
     "name": "stdout",
     "output_type": "stream",
     "text": [
      "August - Média ......: 11.423076923076925\n",
      "August - Mediana ....: 10.0\n",
      "November - Média ....: 16.323076923076922\n",
      "November - Mediana ..: 15.3\n"
     ]
    }
   ],
   "source": [
    "paired_august_mean = paired_august.mean()\n",
    "print(f\"August - Média ......: {paired_august_mean}\")\n",
    "\n",
    "paired_august_median = paired_august.median()\n",
    "print(f\"August - Mediana ....: {paired_august_median}\")\n",
    "\n",
    "paired_november_mean = paired_november.mean()\n",
    "print(f\"November - Média ....: {paired_november_mean}\")\n",
    "\n",
    "paired_november_median = paired_november.median()\n",
    "print(f\"November - Mediana ..: {paired_november_median}\")\n",
    "\n"
   ]
  },
  {
   "attachments": {},
   "cell_type": "markdown",
   "metadata": {},
   "source": [
    "### Questão 02 - Resultados\n",
    "\n",
    "1. Qual o mês com maior média e maior mediana?\n",
    "- O mês com maiores valores foi *November*:\n",
    "    - Média: 16.323076923076922\n",
    "    - Mediana: 15.3\n",
    "\n",
    "2. A diferença é significativa?\n",
    "- Adotando-se o valor de decisão para *p < 0,05*, então pelos valores de *p_value* obtidos acima, a diferença é estatisticamente significante.\n",
    "\n",
    "3. Discuta a diferença dos p-valores. Quais dos 2 testes você acha mais apropriado nesse caso?\n",
    "- Os valores dos testes foram:\n",
    "    - Test Student T-test pareado: 0.039555\n",
    "    - Test Wilcoxon signed rank: 0.039795\n",
    "    - Diferença entre os valores dos dois teste: 2.396710e-04 \n",
    "    - Os testes não paramétricos (wilcoxon) parece ser mais apropriado tendo em vista que se desconhece a distribuição geradora dos dados."
   ]
  },
  {
   "attachments": {},
   "cell_type": "markdown",
   "metadata": {},
   "source": [
    "***"
   ]
  },
  {
   "cell_type": "markdown",
   "metadata": {},
   "source": [
    "### Questão 03\n",
    "\n",
    "Use os dados (não pareados) do dataset bp.csv\n",
    "\n",
    "Gere o intervalo de confiança para a pressão sangüínea dos pacientes com diabetes e sem diabetes (intervalo de 95% de confiança) usando o método de bootstrap"
   ]
  },
  {
   "cell_type": "code",
   "execution_count": 293,
   "metadata": {},
   "outputs": [
    {
     "name": "stdout",
     "output_type": "stream",
     "text": [
      "Intervalo de confiança de 95% para o grupo de diabéticos\n",
      "ConfidenceInterval(low=71.77941176470588, high=77.29411764705883)\n",
      "\n",
      "Intervalo de confiança de 95% para o grupo de não diabéticos\n",
      "ConfidenceInterval(low=67.6590909090909, high=71.47727272727273)\n"
     ]
    }
   ],
   "source": [
    "# calculating IC by boostrap method to diabetics \n",
    "diabetic_persons_seq = (diabetic_persons.values,)\n",
    "bootstrap_ci_diabetics = stats.bootstrap(diabetic_persons_seq, np.mean, confidence_level=0.95, random_state=1, method='BCa')\n",
    "print(\"Intervalo de confiança de 95% para o grupo de diabéticos\")\n",
    "print(bootstrap_ci_diabetics.confidence_interval)\n",
    "\n",
    "print()\n",
    "\n",
    "# calculating IC by boostrap method to non diabetics \n",
    "non_diabetic_persons_seq = (non_diabetic_persons.values,)\n",
    "bootstrap_ci_non_diabetics = stats.bootstrap(non_diabetic_persons_seq, np.mean, confidence_level=0.95, random_state=1, method='BCa')\n",
    "print(\"Intervalo de confiança de 95% para o grupo de não diabéticos\")\n",
    "print(bootstrap_ci_non_diabetics.confidence_interval)"
   ]
  },
  {
   "cell_type": "markdown",
   "metadata": {},
   "source": [
    "***"
   ]
  },
  {
   "attachments": {},
   "cell_type": "markdown",
   "metadata": {},
   "source": [
    "### Questão 04\n",
    "\n",
    "Teste Visual\n",
    "\n",
    "- Há intersecção entre os intervalos de confiança dos 2 conjuntos de dados acima (com diabetes e sem diabetes)? \n",
    "    - ??????????????????????\n",
    "\n",
    "- Isso está de acordo com o teste de diferença significativa entre eles feito na questão 1?\n",
    "    - ???????????????????????"
   ]
  },
  {
   "cell_type": "markdown",
   "metadata": {},
   "source": [
    "***"
   ]
  },
  {
   "cell_type": "markdown",
   "metadata": {},
   "source": [
    "### Questão 05\n",
    "\n",
    "Calcule o Cohen D com o pooled standard deviation para a diferença entre a pressão sangüínea de pacientes com e sem diabetes."
   ]
  },
  {
   "cell_type": "code",
   "execution_count": 294,
   "metadata": {},
   "outputs": [
    {
     "name": "stdout",
     "output_type": "stream",
     "text": [
      "Cohens d: 0.448034\n"
     ]
    }
   ],
   "source": [
    " \n",
    "# function to calculate Cohen's d for independent samples\n",
    "def cohend(d1, d2):\n",
    "\t# calculate the size of samples\n",
    "\tn1, n2 = len(d1), len(d2)\n",
    "\t# calculate the variance of the samples\n",
    "\ts1, s2 = np.var(d1, ddof=1), np.var(d2, ddof=1)\n",
    "\t# calculate the pooled standard deviation\n",
    "\ts = sqrt(((n1 - 1) * s1 + (n2 - 1) * s2) / (n1 + n2 - 2))\n",
    "\t# calculate the means of the samples\n",
    "\tu1, u2 = np.mean(d1), np.mean(d2)\n",
    "\t# calculate the effect size\n",
    "\treturn (u1 - u2) / s\n",
    " \n",
    "# # seed random number generator\n",
    "# np.random.seed(1)\n",
    "\n",
    "# # prepare data\n",
    "# data1 = np.random.normal(150,30,size=4)\n",
    "# data2 = np.random.normal(140,30,size=4)\n",
    "\n",
    "# calculate cohen's d\n",
    "difference = cohend(diabetic_persons, non_diabetic_persons)\n",
    "print('Cohens d: %.6f' % difference)"
   ]
  },
  {
   "cell_type": "markdown",
   "metadata": {},
   "source": [
    "***"
   ]
  },
  {
   "attachments": {},
   "cell_type": "markdown",
   "metadata": {},
   "source": [
    "### Questão 06\n",
    "\n",
    "Com base nos testes, intervalos de confiança, etc realizados acima sobre o dataset bp.csv, qual a sua conclusão sobre pressão arterial em pacientes com ou sem diabetes?\n",
    "\n",
    "- ??????????????????????"
   ]
  }
 ],
 "metadata": {
  "kernelspec": {
   "display_name": "Python 3.9.5 ('Python39')",
   "language": "python",
   "name": "python3"
  },
  "language_info": {
   "codemirror_mode": {
    "name": "ipython",
    "version": 3
   },
   "file_extension": ".py",
   "mimetype": "text/x-python",
   "name": "python",
   "nbconvert_exporter": "python",
   "pygments_lexer": "ipython3",
   "version": "3.9.5"
  },
  "orig_nbformat": 4,
  "vscode": {
   "interpreter": {
    "hash": "93950a40ea759c85c981d82e2bd30582dd3070e4c551fb5ab99e546ff18355cd"
   }
  }
 },
 "nbformat": 4,
 "nbformat_minor": 2
}
