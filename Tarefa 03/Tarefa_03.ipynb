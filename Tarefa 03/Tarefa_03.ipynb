{
 "cells": [
  {
   "cell_type": "markdown",
   "metadata": {},
   "source": [
    "## Disciplina: MO911\n",
    "## Tarefa 3 - Testes Estatísticos \n",
    "\n",
    "- Aluno: Rubens de Castro Pereira - RA217146\n",
    "- Professor: Sandro Rigo \n",
    "- Data: 06/12/202"
   ]
  },
  {
   "cell_type": "markdown",
   "metadata": {},
   "source": [
    "### Import libraries"
   ]
  },
  {
   "cell_type": "code",
   "execution_count": 181,
   "metadata": {},
   "outputs": [],
   "source": [
    "import matplotlib.pyplot as plt\n",
    "import pandas as pd\n",
    "import numpy as np\n",
    "import scipy.stats as stats\n",
    "from math import sqrt"
   ]
  },
  {
   "cell_type": "markdown",
   "metadata": {},
   "source": [
    "### Loading datasets\n",
    "\n",
    "O arquivo bp.csv contém dados sobre a pressão sanguínea (bp) e se a pessoa é ou não diabética (type)."
   ]
  },
  {
   "cell_type": "code",
   "execution_count": 182,
   "metadata": {},
   "outputs": [
    {
     "data": {
      "text/html": [
       "<div>\n",
       "<style scoped>\n",
       "    .dataframe tbody tr th:only-of-type {\n",
       "        vertical-align: middle;\n",
       "    }\n",
       "\n",
       "    .dataframe tbody tr th {\n",
       "        vertical-align: top;\n",
       "    }\n",
       "\n",
       "    .dataframe thead th {\n",
       "        text-align: right;\n",
       "    }\n",
       "</style>\n",
       "<table border=\"1\" class=\"dataframe\">\n",
       "  <thead>\n",
       "    <tr style=\"text-align: right;\">\n",
       "      <th></th>\n",
       "      <th>bp</th>\n",
       "      <th>type</th>\n",
       "    </tr>\n",
       "  </thead>\n",
       "  <tbody>\n",
       "    <tr>\n",
       "      <th>0</th>\n",
       "      <td>68</td>\n",
       "      <td>No</td>\n",
       "    </tr>\n",
       "    <tr>\n",
       "      <th>1</th>\n",
       "      <td>70</td>\n",
       "      <td>Yes</td>\n",
       "    </tr>\n",
       "    <tr>\n",
       "      <th>2</th>\n",
       "      <td>82</td>\n",
       "      <td>No</td>\n",
       "    </tr>\n",
       "    <tr>\n",
       "      <th>3</th>\n",
       "      <td>76</td>\n",
       "      <td>No</td>\n",
       "    </tr>\n",
       "    <tr>\n",
       "      <th>4</th>\n",
       "      <td>60</td>\n",
       "      <td>No</td>\n",
       "    </tr>\n",
       "    <tr>\n",
       "      <th>...</th>\n",
       "      <td>...</td>\n",
       "      <td>...</td>\n",
       "    </tr>\n",
       "    <tr>\n",
       "      <th>195</th>\n",
       "      <td>58</td>\n",
       "      <td>No</td>\n",
       "    </tr>\n",
       "    <tr>\n",
       "      <th>196</th>\n",
       "      <td>68</td>\n",
       "      <td>Yes</td>\n",
       "    </tr>\n",
       "    <tr>\n",
       "      <th>197</th>\n",
       "      <td>70</td>\n",
       "      <td>No</td>\n",
       "    </tr>\n",
       "    <tr>\n",
       "      <th>198</th>\n",
       "      <td>58</td>\n",
       "      <td>No</td>\n",
       "    </tr>\n",
       "    <tr>\n",
       "      <th>199</th>\n",
       "      <td>62</td>\n",
       "      <td>Yes</td>\n",
       "    </tr>\n",
       "  </tbody>\n",
       "</table>\n",
       "<p>200 rows × 2 columns</p>\n",
       "</div>"
      ],
      "text/plain": [
       "     bp type\n",
       "0    68   No\n",
       "1    70  Yes\n",
       "2    82   No\n",
       "3    76   No\n",
       "4    60   No\n",
       "..   ..  ...\n",
       "195  58   No\n",
       "196  68  Yes\n",
       "197  70   No\n",
       "198  58   No\n",
       "199  62  Yes\n",
       "\n",
       "[200 rows x 2 columns]"
      ]
     },
     "execution_count": 182,
     "metadata": {},
     "output_type": "execute_result"
    }
   ],
   "source": [
    "df_bp = pd.read_csv('./datasets/bp - bp.csv')\n",
    "df_bp"
   ]
  },
  {
   "attachments": {},
   "cell_type": "markdown",
   "metadata": {},
   "source": [
    "***\n",
    "### Questão 01\n",
    "\n",
    "O arquivo bp.csv contem dados sobre a pressão sanguínea (bp) e se a pessoa é ou não diabética (type) (diabetico é type = Yes).\n",
    "\n",
    "Use os seguintes testes e responda os itens abaixo:\n",
    "\n",
    "- Teste t\n",
    "\n",
    "- Wilcoxon rank sum\n",
    "\n",
    "1. Reporte o p-valor da comparação entre a pressão sangüínea de pessoas diabéticas ou não.\n",
    "\n",
    "2. Qual tem a maior pressão média? E maior pressão mediana?\n",
    "\n",
    "3. A diferença é significativa?\n",
    "\n",
    "Discuta a diferença dos p-valores. Quais dos 2 testes você acha mais apropriado nesse caso?"
   ]
  },
  {
   "cell_type": "markdown",
   "metadata": {},
   "source": [
    "#### Preparing data"
   ]
  },
  {
   "cell_type": "code",
   "execution_count": 183,
   "metadata": {},
   "outputs": [
    {
     "name": "stdout",
     "output_type": "stream",
     "text": [
      "Quantidade de pessoas diabéticas: 68\n",
      "Quantidade de pessoas não diabéticas: 132\n"
     ]
    }
   ],
   "source": [
    "# preparing data \n",
    "diabetic_persons = df_bp.loc[df_bp['type'] == 'Yes']['bp']\n",
    "# print(diabetic_persons)\n",
    "diabetic_persons\n",
    "print(f\"Quantidade de pessoas diabéticas: {len(diabetic_persons)}\")\n",
    "\n",
    "\n",
    "non_diabetic_persons = df_bp.loc[df_bp['type'] == 'No']['bp']\n",
    "# print(non_diabetic_persons)\n",
    "non_diabetic_persons\n",
    "print(f\"Quantidade de pessoas não diabéticas: {len(non_diabetic_persons)}\")\n"
   ]
  },
  {
   "attachments": {},
   "cell_type": "markdown",
   "metadata": {},
   "source": [
    "#### Test t de Student"
   ]
  },
  {
   "cell_type": "code",
   "execution_count": 184,
   "metadata": {},
   "outputs": [
    {
     "name": "stdout",
     "output_type": "stream",
     "text": [
      "Test t de Student\n",
      "stat=3.00150, p_value=0.00303\n"
     ]
    }
   ],
   "source": [
    "# calculating test t\n",
    "print(\"Test t de Student\")\n",
    "test_t_stat, test_t_p_value = stats.ttest_ind(diabetic_persons, non_diabetic_persons)\n",
    "print('stat=%.5f, p_value=%.5f' % (test_t_stat, test_t_p_value))"
   ]
  },
  {
   "cell_type": "markdown",
   "metadata": {},
   "source": [
    "#### Test Wilcoxon rank sum"
   ]
  },
  {
   "cell_type": "code",
   "execution_count": 185,
   "metadata": {},
   "outputs": [
    {
     "name": "stdout",
     "output_type": "stream",
     "text": [
      "Test - Wilcoxon rank sum\n",
      "stat=3.04580, p_value=0.00232\n"
     ]
    }
   ],
   "source": [
    "print(\"Test - Wilcoxon rank sum\")\n",
    "test_wilcoxon_stat, test_wilcoxon_p_value = stats.ranksums(diabetic_persons, non_diabetic_persons)\n",
    "print('stat=%.5f, p_value=%.5f' % (test_wilcoxon_stat, test_wilcoxon_p_value))"
   ]
  },
  {
   "cell_type": "markdown",
   "metadata": {},
   "source": [
    "#### Média e Mediana "
   ]
  },
  {
   "cell_type": "code",
   "execution_count": 186,
   "metadata": {},
   "outputs": [
    {
     "name": "stdout",
     "output_type": "stream",
     "text": [
      "Diabéticos:\n",
      "  Pressão Média ..: 74.58823529411765\n",
      "  Pressão Mediana : 76.0\n",
      "\n",
      "Não diabéticos:\n",
      "  Pressão Média ..: 69.54545454545455\n",
      "  Pressão Mediana : 70.0\n"
     ]
    }
   ],
   "source": [
    "print(f\"Diabéticos:\")\n",
    "\n",
    "diabetic_persons_mean = diabetic_persons.mean()\n",
    "print(f\"  Pressão Média ..: {diabetic_persons_mean}\")\n",
    "\n",
    "diabetic_persons_median = diabetic_persons.median()\n",
    "print(f\"  Pressão Mediana : {diabetic_persons_median}\")\n",
    "\n",
    "print()\n",
    "\n",
    "print(f\"Não diabéticos:\")\n",
    "\n",
    "non_diabetic_persons_mean = non_diabetic_persons.mean()\n",
    "print(f\"  Pressão Média ..: {non_diabetic_persons_mean}\")\n",
    "\n",
    "non_diabetic_persons_median = non_diabetic_persons.median()\n",
    "print(f\"  Pressão Mediana : {non_diabetic_persons_median}\")"
   ]
  },
  {
   "attachments": {},
   "cell_type": "markdown",
   "metadata": {},
   "source": [
    "### Questão 01 - Resultados\n",
    "\n",
    "1. Reporte o p-valor da comparação entre a pressão sangüínea de pessoas diabéticas ou não.\n",
    "    - O test Student T-test produziu um p-valor de 0.00303\n",
    "    - O test Wilcoxon rank sum produziu um p-valor de 0.00232\n",
    "    <br>\n",
    "    \n",
    "2. Qual tem a maior pressão média? E maior pressão mediana?\n",
    "  \n",
    "    - O grupo de pessoas diabéticas possui os maiores valores em relação às pessoas não diabéticas:\n",
    "        - Pressão média: 74.59\n",
    "        - Pressão mediana: 76.0\n",
    "    <br>\n",
    "\n",
    "3. A diferença é significativa?\n",
    "    - Adotando-se como valor de decisão *p < 0,05*, os testes Test t de Student e Wilcoxon rank sum resultaram em valores *p_value*  bem menores, logo a diferença é significativa ou estatisticamente significante.\n",
    "    <br>\n",
    "\n",
    "4. Discuta a diferença dos p-valores. Quais dos 2 testes você acha mais apropriado nesse caso?\n",
    "\n",
    "    - A amostra de dados possui um total de 200 valores de pressão sangüínea, sendo 68 pessoas diabéticas e 132 pessoas não diabéticas. Devido ao tamanho da amostra, o teste paramétrico test t de Student é mais apropriado para esse caso. Maiores informações sobre recomendação de uso do test t de Student podem ser verificadas em https://www.datascienceblog.net/post/statistical_test/parametric_sample_size/."
   ]
  },
  {
   "attachments": {},
   "cell_type": "markdown",
   "metadata": {},
   "source": [
    "***\n",
    "### Questão 02\n",
    "\n",
    "O arquivo paired.csv contém dados sobre duas medições: em Agosto e em Novembro em 13 lugares diferentes.\n",
    "\n",
    "Use os seguintes testes e responda os itens abaixo:\n",
    "- Test t pareado\n",
    "- Wilcoxon signed rank.\n",
    "\n",
    "1. Qual o mês com maior média e maior mediana?\n",
    "\n",
    "2. A diferença é significativa?\n",
    "\n",
    "3. Discuta a diferença dos p-valores. Quais dos 2 testes você acha mais apropriado nesse caso?"
   ]
  },
  {
   "cell_type": "markdown",
   "metadata": {},
   "source": [
    "#### Loading datasets\n",
    "\n",
    "O arquivo paired.csv contém dados sobre duas medições: em Agosto e em Novembro em 13 lugares diferentes."
   ]
  },
  {
   "cell_type": "code",
   "execution_count": 187,
   "metadata": {},
   "outputs": [
    {
     "data": {
      "text/html": [
       "<div>\n",
       "<style scoped>\n",
       "    .dataframe tbody tr th:only-of-type {\n",
       "        vertical-align: middle;\n",
       "    }\n",
       "\n",
       "    .dataframe tbody tr th {\n",
       "        vertical-align: top;\n",
       "    }\n",
       "\n",
       "    .dataframe thead th {\n",
       "        text-align: right;\n",
       "    }\n",
       "</style>\n",
       "<table border=\"1\" class=\"dataframe\">\n",
       "  <thead>\n",
       "    <tr style=\"text-align: right;\">\n",
       "      <th></th>\n",
       "      <th>Clone</th>\n",
       "      <th>August</th>\n",
       "      <th>November</th>\n",
       "    </tr>\n",
       "  </thead>\n",
       "  <tbody>\n",
       "    <tr>\n",
       "      <th>0</th>\n",
       "      <td>Balsam_Spire</td>\n",
       "      <td>8.1</td>\n",
       "      <td>11.2</td>\n",
       "    </tr>\n",
       "    <tr>\n",
       "      <th>1</th>\n",
       "      <td>Beaupre</td>\n",
       "      <td>10.0</td>\n",
       "      <td>16.3</td>\n",
       "    </tr>\n",
       "    <tr>\n",
       "      <th>2</th>\n",
       "      <td>Hazendans</td>\n",
       "      <td>16.5</td>\n",
       "      <td>15.3</td>\n",
       "    </tr>\n",
       "    <tr>\n",
       "      <th>3</th>\n",
       "      <td>Hoogvorst</td>\n",
       "      <td>13.6</td>\n",
       "      <td>15.6</td>\n",
       "    </tr>\n",
       "    <tr>\n",
       "      <th>4</th>\n",
       "      <td>Raspalje</td>\n",
       "      <td>9.5</td>\n",
       "      <td>10.5</td>\n",
       "    </tr>\n",
       "    <tr>\n",
       "      <th>5</th>\n",
       "      <td>Unal</td>\n",
       "      <td>8.3</td>\n",
       "      <td>15.5</td>\n",
       "    </tr>\n",
       "    <tr>\n",
       "      <th>6</th>\n",
       "      <td>Columbia_River</td>\n",
       "      <td>18.3</td>\n",
       "      <td>12.7</td>\n",
       "    </tr>\n",
       "    <tr>\n",
       "      <th>7</th>\n",
       "      <td>Fritzi_Pauley</td>\n",
       "      <td>13.3</td>\n",
       "      <td>11.1</td>\n",
       "    </tr>\n",
       "    <tr>\n",
       "      <th>8</th>\n",
       "      <td>Trichobel</td>\n",
       "      <td>7.9</td>\n",
       "      <td>19.9</td>\n",
       "    </tr>\n",
       "    <tr>\n",
       "      <th>9</th>\n",
       "      <td>Gaver</td>\n",
       "      <td>8.1</td>\n",
       "      <td>20.4</td>\n",
       "    </tr>\n",
       "    <tr>\n",
       "      <th>10</th>\n",
       "      <td>Gibecq</td>\n",
       "      <td>8.9</td>\n",
       "      <td>14.2</td>\n",
       "    </tr>\n",
       "    <tr>\n",
       "      <th>11</th>\n",
       "      <td>Primo</td>\n",
       "      <td>12.6</td>\n",
       "      <td>12.7</td>\n",
       "    </tr>\n",
       "    <tr>\n",
       "      <th>12</th>\n",
       "      <td>Wolterson</td>\n",
       "      <td>13.4</td>\n",
       "      <td>36.8</td>\n",
       "    </tr>\n",
       "  </tbody>\n",
       "</table>\n",
       "</div>"
      ],
      "text/plain": [
       "             Clone  August  November\n",
       "0     Balsam_Spire     8.1      11.2\n",
       "1          Beaupre    10.0      16.3\n",
       "2        Hazendans    16.5      15.3\n",
       "3        Hoogvorst    13.6      15.6\n",
       "4         Raspalje     9.5      10.5\n",
       "5             Unal     8.3      15.5\n",
       "6   Columbia_River    18.3      12.7\n",
       "7    Fritzi_Pauley    13.3      11.1\n",
       "8        Trichobel     7.9      19.9\n",
       "9            Gaver     8.1      20.4\n",
       "10          Gibecq     8.9      14.2\n",
       "11           Primo    12.6      12.7\n",
       "12       Wolterson    13.4      36.8"
      ]
     },
     "execution_count": 187,
     "metadata": {},
     "output_type": "execute_result"
    }
   ],
   "source": [
    "df_paired = pd.read_csv('./datasets/paired - paired.csv')\n",
    "df_paired"
   ]
  },
  {
   "cell_type": "markdown",
   "metadata": {},
   "source": [
    "#### Preparing data"
   ]
  },
  {
   "cell_type": "code",
   "execution_count": 188,
   "metadata": {},
   "outputs": [
    {
     "data": {
      "text/plain": [
       "0      8.1\n",
       "1     10.0\n",
       "2     16.5\n",
       "3     13.6\n",
       "4      9.5\n",
       "5      8.3\n",
       "6     18.3\n",
       "7     13.3\n",
       "8      7.9\n",
       "9      8.1\n",
       "10     8.9\n",
       "11    12.6\n",
       "12    13.4\n",
       "Name: August, dtype: float64"
      ]
     },
     "execution_count": 188,
     "metadata": {},
     "output_type": "execute_result"
    }
   ],
   "source": [
    "# preparing data \n",
    "paired_august = df_paired['August']\n",
    "paired_august"
   ]
  },
  {
   "cell_type": "code",
   "execution_count": 189,
   "metadata": {},
   "outputs": [
    {
     "data": {
      "text/plain": [
       "0     11.2\n",
       "1     16.3\n",
       "2     15.3\n",
       "3     15.6\n",
       "4     10.5\n",
       "5     15.5\n",
       "6     12.7\n",
       "7     11.1\n",
       "8     19.9\n",
       "9     20.4\n",
       "10    14.2\n",
       "11    12.7\n",
       "12    36.8\n",
       "Name: November, dtype: float64"
      ]
     },
     "execution_count": 189,
     "metadata": {},
     "output_type": "execute_result"
    }
   ],
   "source": [
    "paired_november = df_paired['November']\n",
    "paired_november"
   ]
  },
  {
   "cell_type": "code",
   "execution_count": 190,
   "metadata": {},
   "outputs": [
    {
     "name": "stdout",
     "output_type": "stream",
     "text": [
      "Tamanho das amostras:\n",
      "  August ..: 13\n",
      "  November : 13\n"
     ]
    }
   ],
   "source": [
    "print(f\"Tamanho das amostras:\")\n",
    "print(f\"  August ..: {len(paired_august)}\")\n",
    "print(f\"  November : {len(paired_november)}\")"
   ]
  },
  {
   "attachments": {},
   "cell_type": "markdown",
   "metadata": {},
   "source": [
    "#### Teste t de Student pareado"
   ]
  },
  {
   "cell_type": "code",
   "execution_count": 191,
   "metadata": {},
   "outputs": [
    {
     "name": "stdout",
     "output_type": "stream",
     "text": [
      "Test t de Student pareado\n",
      "stat=-2.308896, p_value=0.039555\n"
     ]
    }
   ],
   "source": [
    "print(\"Test t de Student pareado\")\n",
    "test_t_pareado_stat, test_t_pareado_p_value = stats.ttest_rel(paired_august, paired_november)\n",
    "print('stat=%.6f, p_value=%.6f' % (test_t_pareado_stat, test_t_pareado_p_value))"
   ]
  },
  {
   "cell_type": "markdown",
   "metadata": {},
   "source": [
    "#### Test Wilcoxon signed rank"
   ]
  },
  {
   "cell_type": "code",
   "execution_count": 192,
   "metadata": {},
   "outputs": [
    {
     "name": "stdout",
     "output_type": "stream",
     "text": [
      "Test Wilcoxon signed rank\n",
      "stat=16.000000, p_value=0.039795\n"
     ]
    }
   ],
   "source": [
    "print(\"Test Wilcoxon signed rank\")\n",
    "test_wilcoxon_signed_rank_stat, test_wilcoxon_signed_rank_p_value = stats.wilcoxon(paired_august, paired_november)\n",
    "print('stat=%.6f, p_value=%.6f' % (test_wilcoxon_signed_rank_stat, test_wilcoxon_signed_rank_p_value))"
   ]
  },
  {
   "attachments": {},
   "cell_type": "markdown",
   "metadata": {},
   "source": [
    "#### Diferença dos valores *p_value* dos testes"
   ]
  },
  {
   "cell_type": "code",
   "execution_count": 193,
   "metadata": {},
   "outputs": [
    {
     "name": "stdout",
     "output_type": "stream",
     "text": [
      "Diferença p_value = 0.0002396710\n",
      "Diferença p_value = 2.396710e-04\n"
     ]
    }
   ],
   "source": [
    "print('Diferença p_value = %.10f' % (test_wilcoxon_signed_rank_p_value - test_t_pareado_p_value))\n",
    "print(f'Diferença p_value = {(test_wilcoxon_signed_rank_p_value - test_t_pareado_p_value):e}')"
   ]
  },
  {
   "cell_type": "markdown",
   "metadata": {},
   "source": [
    "#### Média e Mediana"
   ]
  },
  {
   "cell_type": "code",
   "execution_count": 194,
   "metadata": {},
   "outputs": [
    {
     "name": "stdout",
     "output_type": "stream",
     "text": [
      "August:\n",
      "  Média ..: 11.423076923076925\n",
      "  Mediana : 10.0\n",
      "November:\n",
      "  Média ..: 16.323076923076922\n",
      "  Mediana : 15.3\n"
     ]
    }
   ],
   "source": [
    "print(f\"August:\")\n",
    "paired_august_mean = paired_august.mean()\n",
    "print(f\"  Média ..: {paired_august_mean}\")\n",
    "\n",
    "paired_august_median = paired_august.median()\n",
    "print(f\"  Mediana : {paired_august_median}\")\n",
    "\n",
    "print(f\"November:\")\n",
    "\n",
    "paired_november_mean = paired_november.mean()\n",
    "print(f\"  Média ..: {paired_november_mean}\")\n",
    "\n",
    "paired_november_median = paired_november.median()\n",
    "print(f\"  Mediana : {paired_november_median}\")"
   ]
  },
  {
   "attachments": {},
   "cell_type": "markdown",
   "metadata": {},
   "source": [
    "### Questão 02 - Resultados\n",
    "\n",
    "1. Qual o mês com maior média e maior mediana?\n",
    "    - O mês com maiores valores foi *November*:\n",
    "        - Média: 16.32\n",
    "        - Mediana: 15.3\n",
    "    <br>\n",
    "\n",
    "2. A diferença é significativa?\n",
    "    - Adotando-se como valor de decisão *p < 0,05*, os testes Test t de Student pareado e Wilcoxon signed rank produziram  valores *p_value* bem menores do que *p*, logo a diferença é significativa ou estatisticamente significante.        \n",
    "    <br>\n",
    "\n",
    "3. Discuta a diferença dos p-valores. Quais dos 2 testes você acha mais apropriado nesse caso?\n",
    "    - Os valores obtidos dos testes são:\n",
    "        - Test Student T-test pareado: 0.039555\n",
    "        - Test Wilcoxon signed rank: 0.039795\n",
    "        - Diferença entre os valores dos dois testes: 2.396710e-04 \n",
    "        - Tamanho das amostras: August: 13, and November: 13\n",
    "    <br>\n",
    "    \n",
    "    - A amostra dos dados é pequena, e portanto, testes não paramétricos são mais apropriados. Por isso, o teste de Wilcoxon signed rank é mais apropriado, pois não possível estabelecer uma distribuição dos dados gerados. Maiores informações sobre recomendação de uso do test Wilcoxon signed rank podem ser verificadas em https://www.datascienceblog.net/post/statistical_test/signed_wilcox_rank_test/."
   ]
  },
  {
   "attachments": {},
   "cell_type": "markdown",
   "metadata": {},
   "source": [
    "***\n",
    "### Questão 03\n",
    "\n",
    "Use os dados (não pareados) do dataset bp.csv\n",
    "\n",
    "Gere o intervalo de confiança para a pressão sangüínea dos pacientes com diabetes e sem diabetes (intervalo de 95% de confiança) usando o método de bootstrap"
   ]
  },
  {
   "cell_type": "code",
   "execution_count": 195,
   "metadata": {},
   "outputs": [
    {
     "name": "stdout",
     "output_type": "stream",
     "text": [
      "Intervalo de confiança de 95% para o grupo de diabéticos\n",
      "ConfidenceInterval(low=71.77941176470588, high=77.29411764705883)\n",
      "\n",
      "Intervalo de confiança de 95% para o grupo de não diabéticos\n",
      "ConfidenceInterval(low=67.6590909090909, high=71.47727272727273)\n"
     ]
    }
   ],
   "source": [
    "# calculating IC by boostrap method to diabetics \n",
    "diabetic_persons_seq = (diabetic_persons.values,)\n",
    "bootstrap_ci_diabetics = stats.bootstrap(diabetic_persons_seq, np.mean, confidence_level=0.95, random_state=1, method='BCa')\n",
    "print(\"Intervalo de confiança de 95% para o grupo de diabéticos\")\n",
    "print(bootstrap_ci_diabetics.confidence_interval)\n",
    "\n",
    "print()\n",
    "\n",
    "# calculating IC by boostrap method to non diabetics \n",
    "non_diabetic_persons_seq = (non_diabetic_persons.values,)\n",
    "bootstrap_ci_non_diabetics = stats.bootstrap(non_diabetic_persons_seq, np.mean, confidence_level=0.95, random_state=1, method='BCa')\n",
    "print(\"Intervalo de confiança de 95% para o grupo de não diabéticos\")\n",
    "print(bootstrap_ci_non_diabetics.confidence_interval)"
   ]
  },
  {
   "attachments": {},
   "cell_type": "markdown",
   "metadata": {},
   "source": [
    "***\n",
    "### Questão 04\n",
    "\n",
    "Teste Visual\n",
    "\n",
    "- Há intersecção entre os intervalos de confiança dos 2 conjuntos de dados acima (com diabetes e sem diabetes)? \n",
    "    - Não há interseção.\n",
    "\n",
    "\n",
    "- Isso está de acordo com o teste de diferença significativa entre eles feito na questão 1?\n",
    "\n",
    "    - O resultado está em acordo com os testes de diferença de significativa, já que os intervalos de confiança não apresentam interseção.\n",
    "    - como não houve interseção, o -pvalue é menor que 0,05\n"
   ]
  },
  {
   "attachments": {},
   "cell_type": "markdown",
   "metadata": {},
   "source": [
    "***\n",
    "### Questão 05\n",
    "\n",
    "Calcule o Cohen D com o pooled standard deviation para a diferença entre a pressão sangüínea de pacientes com e sem diabetes."
   ]
  },
  {
   "cell_type": "code",
   "execution_count": 196,
   "metadata": {},
   "outputs": [
    {
     "name": "stdout",
     "output_type": "stream",
     "text": [
      "Cohen D: 0.448034\n"
     ]
    }
   ],
   "source": [
    " \n",
    "# function to calculate Cohen's d for independent samples\n",
    "def cohend(d1, d2):\n",
    "\t# calculate the size of samples\n",
    "\tn1, n2 = len(d1), len(d2)\n",
    "\t# calculate the variance of the samples\n",
    "\ts1, s2 = np.var(d1, ddof=1), np.var(d2, ddof=1)\n",
    "\t# calculate the pooled standard deviation\n",
    "\ts = sqrt(((n1 - 1) * s1 + (n2 - 1) * s2) / (n1 + n2 - 2))\n",
    "\t# calculate the means of the samples\n",
    "\tu1, u2 = np.mean(d1), np.mean(d2)\n",
    "\t# calculate the effect size\n",
    "\treturn (u1 - u2) / s\n",
    " \n",
    "# calculate cohen's d\n",
    "difference = cohend(diabetic_persons, non_diabetic_persons)\n",
    "print('Cohen D: %.6f' % difference)"
   ]
  },
  {
   "attachments": {},
   "cell_type": "markdown",
   "metadata": {},
   "source": [
    "*** \n",
    "### Questão 06\n",
    "\n",
    "Com base nos testes, intervalos de confiança, etc realizados acima sobre o dataset bp.csv, qual a sua conclusão sobre pressão arterial em pacientes com ou sem diabetes?\n",
    "\n",
    "- A pressãp arterial elevada em pacientes  do grupo dos diabéticos é maior do \n",
    "\n",
    "- o IC das médias não intersecciona e o o pvalor são diferentes, são menores que 0,05, e por isso podemos concluir que pessoas diaticas tem maior risco de ter presão arterial elevada."
   ]
  }
 ],
 "metadata": {
  "kernelspec": {
   "display_name": "Python 3.9.5 ('Python39')",
   "language": "python",
   "name": "python3"
  },
  "language_info": {
   "codemirror_mode": {
    "name": "ipython",
    "version": 3
   },
   "file_extension": ".py",
   "mimetype": "text/x-python",
   "name": "python",
   "nbconvert_exporter": "python",
   "pygments_lexer": "ipython3",
   "version": "3.9.5"
  },
  "orig_nbformat": 4,
  "vscode": {
   "interpreter": {
    "hash": "93950a40ea759c85c981d82e2bd30582dd3070e4c551fb5ab99e546ff18355cd"
   }
  }
 },
 "nbformat": 4,
 "nbformat_minor": 2
}
