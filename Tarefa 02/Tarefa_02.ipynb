{
 "cells": [
  {
   "cell_type": "markdown",
   "metadata": {},
   "source": [
    "### Disciplina: MO911\n",
    "### Tarefa 2 - Visualização de Dados      \n",
    "\n",
    "##### Professor: Sandro Rigo \n",
    "##### Aluno: Rubens de Castro Pereira\n",
    "##### Data: 21/11/202\n",
    "\n",
    "\n",
    "Escolha um ou mais  datasets de alguma referência listada abaixo para gerar os 3 tipos de visualização de dados a seguir:\n",
    "- um histograma\n",
    "- um gráfico de barras ou pizza\n",
    "- um gráfico de dispersão (scatter plot)\n",
    "\n",
    "Sua resposta deve ser a submissão de um Jupyter notebook no formulário anexo a essa pergunta.\n",
    "\n",
    "Lista de fontes para dados:\n",
    "\n",
    "- https://github.com/awesomedata/awesome-public-datasets\n",
    "- https://datasetsearch.research.google.com/ \n",
    "- http://archive.ics.uci.edu/ml/index.php\n",
    "- https://www.kaggle.com/datasets\n",
    "- https://synthea.mitre.org/\n",
    "- https://opendatasus.saude.gov.br/dataset/notificacoes-de-sindrome-gripal-leve-2021"
   ]
  },
  {
   "cell_type": "code",
   "execution_count": 11,
   "metadata": {},
   "outputs": [],
   "source": [
    "import numpy as np\n"
   ]
  },
  {
   "cell_type": "code",
   "execution_count": 12,
   "metadata": {},
   "outputs": [
    {
     "data": {
      "text/plain": [
       "array([  0,   1,   2,   3,   4,   5,   6,   7,   8,   9,  10,  11,  12,\n",
       "        13,  14,  15,  16,  17,  18,  19,  20,  21,  22,  23,  24,  25,\n",
       "        26,  27,  28,  29,  30,  31,  32,  33,  34,  35,  36,  37,  38,\n",
       "        39,  40,  41,  42,  43,  44,  45,  46,  47,  48,  49,  50,  51,\n",
       "        52,  53,  54,  55,  56,  57,  58,  59,  60,  61,  62,  63,  64,\n",
       "        65,  66,  67,  68,  69,  70,  71,  72,  73,  74,  75,  76,  77,\n",
       "        78,  79,  80,  81,  82,  83,  84,  85,  86,  87,  88,  89,  90,\n",
       "        91,  92,  93,  94,  95,  96,  97,  98,  99, 100, 101, 102, 103,\n",
       "       104, 105, 106, 107, 108, 109, 110, 111, 112, 113, 114, 115, 116,\n",
       "       117, 118, 119, 120, 121, 122, 123, 124, 125, 126, 127, 128, 129,\n",
       "       130, 131, 132, 133, 134, 135, 136, 137, 138, 139, 140, 141, 142,\n",
       "       143, 144, 145, 146, 147, 148, 149, 150, 151, 152, 153, 154, 155,\n",
       "       156, 157, 158, 159, 160, 161, 162, 163, 164, 165, 166, 167, 168,\n",
       "       169, 170, 171, 172, 173, 174, 175, 176, 177, 178, 179, 180, 181,\n",
       "       182, 183, 184, 185, 186, 187, 188, 189, 190, 191, 192, 193, 194,\n",
       "       195, 196, 197, 198, 199])"
      ]
     },
     "execution_count": 12,
     "metadata": {},
     "output_type": "execute_result"
    }
   ],
   "source": [
    "a = np.arange(200)\n",
    "a"
   ]
  }
 ],
 "metadata": {
  "kernelspec": {
   "display_name": "Python 3.9.5 ('Python39')",
   "language": "python",
   "name": "python3"
  },
  "language_info": {
   "codemirror_mode": {
    "name": "ipython",
    "version": 3
   },
   "file_extension": ".py",
   "mimetype": "text/x-python",
   "name": "python",
   "nbconvert_exporter": "python",
   "pygments_lexer": "ipython3",
   "version": "3.9.5"
  },
  "orig_nbformat": 4,
  "vscode": {
   "interpreter": {
    "hash": "93950a40ea759c85c981d82e2bd30582dd3070e4c551fb5ab99e546ff18355cd"
   }
  }
 },
 "nbformat": 4,
 "nbformat_minor": 2
}
